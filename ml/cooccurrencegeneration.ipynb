{
  "nbformat": 4,
  "nbformat_minor": 0,
  "metadata": {
    "colab": {
      "provenance": []
    },
    "kernelspec": {
      "name": "python3",
      "display_name": "Python 3"
    },
    "language_info": {
      "name": "python"
    }
  },
  "cells": [
    {
      "cell_type": "code",
      "execution_count": 1,
      "metadata": {
        "id": "cMzOIyD0aslO"
      },
      "outputs": [],
      "source": [
        "import json\n",
        "import itertools\n",
        "from collections import defaultdict\n",
        "import numpy as np\n",
        "import pandas as pd\n",
        "\n",
        "# ------------ 1.  Load your data  -------------------------------------------\n",
        "with open(\"train.json\", \"r\", encoding=\"utf-8\") as f:\n",
        "    # If your file is a list: data = json.load(f)\n",
        "    # If it is an object keyed by IDs (what you showed):  use .values()\n",
        "    data = json.load(f)\n",
        "\n",
        "# ------------ 2.  Discover all unique ingredients  --------------------------\n",
        "ingredient_to_idx = {}\n",
        "for recipe in data:\n",
        "    for raw in recipe[\"ingredients\"]:\n",
        "        ing = raw.strip().lower()\n",
        "        if ing not in ingredient_to_idx:\n",
        "            ingredient_to_idx[ing] = len(ingredient_to_idx)\n",
        "\n",
        "n = len(ingredient_to_idx)\n",
        "matrix = np.zeros((n, n), dtype=int)\n",
        "\n",
        "# ------------ 3.  Update co-occurrence counts  ------------------------------\n",
        "for recipe in data:\n",
        "    ing_set = {raw.strip().lower() for raw in recipe[\"ingredients\"]}\n",
        "\n",
        "    # Count every unordered pair once per recipe\n",
        "    for a, b in itertools.combinations(ing_set, 2):\n",
        "        i, j = ingredient_to_idx[a], ingredient_to_idx[b]\n",
        "        matrix[i, j] += 1\n",
        "        matrix[j, i] += 1\n",
        "\n",
        "    # Optional: store recipe counts on the diagonal\n",
        "    for ing in ing_set:\n",
        "        idx = ingredient_to_idx[ing]\n",
        "        matrix[idx, idx] += 1          # drop this loop if you want zeros on the diagonal\n",
        "\n"
      ]
    },
    {
      "cell_type": "code",
      "source": [
        "# delete uncommon ingredients: less than 1000 recipes\n",
        "min_recipes = 15\n",
        "diag = np.diag(matrix)\n",
        "keep_indices = np.where(diag >= min_recipes)[0]\n",
        "\n",
        "# Filter the matrix\n",
        "filtered_matrix = matrix[np.ix_(keep_indices, keep_indices)]\n",
        "\n",
        "# Update the ingredient mapping\n",
        "idx_to_ingredient = {i: ing for ing, i in ingredient_to_idx.items()}\n",
        "new_ingredient_list = [idx_to_ingredient[i] for i in keep_indices]\n",
        "filtered_ingredient_to_idx = {ing: i for i, ing in enumerate(new_ingredient_list)}\n",
        "\n",
        "print(filtered_matrix)\n",
        "print(len(filtered_matrix))"
      ],
      "metadata": {
        "colab": {
          "base_uri": "https://localhost:8080/"
        },
        "id": "HYpRoAsrykfQ",
        "outputId": "847035c5-947a-4f83-92b9-6b8b2d18bf82"
      },
      "execution_count": 11,
      "outputs": [
        {
          "output_type": "stream",
          "name": "stdout",
          "text": [
            "[[7380 1308  399 ...    8    4    5]\n",
            " [1308 4438  246 ...    2    0    3]\n",
            " [ 399  246 1896 ...    0    0    1]\n",
            " ...\n",
            " [   8    2    0 ...   16    0    0]\n",
            " [   4    0    0 ...    0   15    0]\n",
            " [   5    3    1 ...    0    0   20]]\n",
            "731\n"
          ]
        }
      ]
    },
    {
      "cell_type": "code",
      "source": [
        "# if dataframe takes too much memory (it does):\n",
        "from scipy import sparse\n",
        "import numpy as np\n",
        "\n",
        "# matrix is the NumPy array you built earlier\n",
        "mat_csr = sparse.csr_matrix(matrix)          # compresses rows & drops zero\n",
        "sparse.save_npz(\"cooc.npz\", mat_csr, compressed=True)\n",
        "\n",
        "#uncompress w/ mat_csr = sparse.load_npz(\"cooc.npz\")"
      ],
      "metadata": {
        "id": "s4fJV772eQ1f"
      },
      "execution_count": 13,
      "outputs": []
    },
    {
      "cell_type": "code",
      "source": [
        "# Show the first few rows\n",
        "print(len(df))\n",
        "df.to_csv(\"co_occurrence.csv\")"
      ],
      "metadata": {
        "colab": {
          "base_uri": "https://localhost:8080/"
        },
        "id": "ec34_STScA5E",
        "outputId": "3c73e18c-721a-4eb9-99c5-e5f4b9a93c47"
      },
      "execution_count": null,
      "outputs": [
        {
          "output_type": "stream",
          "name": "stdout",
          "text": [
            "6703\n"
          ]
        }
      ]
    }
  ]
}